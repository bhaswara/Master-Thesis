{
 "cells": [
  {
   "cell_type": "code",
   "execution_count": 1,
   "metadata": {},
   "outputs": [],
   "source": [
    "import numpy as np \n",
    "import matplotlib.pyplot as plt \n",
    "import os \n",
    "import cv2 \n",
    "import random\n",
    "from scipy.linalg import sqrtm\n",
    "from skimage.transform import resize\n",
    "from PIL import Image\n",
    "import math\n",
    "import itertools\n",
    "\n",
    "import torch\n",
    "import torch.nn as nn\n",
    "import torch.optim as optim\n",
    "\n",
    "import torchvision\n",
    "from torch.utils.data import DataLoader\n",
    "from torch.autograd import Variable\n",
    "from torchvision.datasets import DatasetFolder\n",
    "from torchvision.datasets import ImageFolder\n",
    "from torchvision.transforms import transforms\n",
    "from torchvision.utils import save_image\n",
    "from torch.optim.lr_scheduler import StepLR\n",
    "import torch.nn.init as init\n",
    "import torch.nn.functional as F\n",
    "\n",
    "from itertools import count\n",
    "from collections import defaultdict\n",
    "\n",
    "import sklearn\n",
    "import seaborn as sns\n",
    "from scipy.spatial import ConvexHull\n",
    "from sklearn.manifold import TSNE\n",
    "\n",
    "import scipy.io\n",
    "\n",
    "import collections\n",
    "import PIL\n",
    "import tqdm\n",
    "\n",
    "from LLR_classifier import *\n",
    "\n",
    "DEBUG = False"
   ]
  },
  {
   "cell_type": "code",
   "execution_count": 2,
   "metadata": {},
   "outputs": [],
   "source": [
    "USE_CUDA = True\n",
    "use_cuda = USE_CUDA and torch.cuda.is_available()\n",
    "device = torch.device(\"cuda\" if use_cuda else \"cpu\")\n",
    "\n",
    "batch_size = 100\n",
    "z_dim = 128"
   ]
  },
  {
   "cell_type": "code",
   "execution_count": 3,
   "metadata": {},
   "outputs": [],
   "source": [
    "class View(nn.Module):\n",
    "    def __init__(self, size):\n",
    "        super(View, self).__init__()\n",
    "        self.size = size\n",
    "\n",
    "    def forward(self, tensor):\n",
    "        return tensor.view(self.size)\n",
    "    \n",
    "def kaiming_init(m):\n",
    "    if isinstance(m, (nn.Linear, nn.Conv2d)):\n",
    "        init.kaiming_normal(m.weight)\n",
    "        if m.bias is not None:\n",
    "            m.bias.data.fill_(0)\n",
    "    elif isinstance(m, (nn.BatchNorm1d, nn.BatchNorm2d)):\n",
    "        m.weight.data.fill_(1)\n",
    "        if m.bias is not None:\n",
    "            m.bias.data.fill_(0)\n",
    "\n",
    "class Encoder(nn.Module):\n",
    "    def __init__(self, z_dim=10, nc=3):\n",
    "        super(Encoder, self).__init__()\n",
    "\n",
    "        self.nc = nc\n",
    "        self.z_dim = z_dim\n",
    "\n",
    "        self.main = nn.Sequential(\n",
    "            nn.Conv2d(nc, 128, 4, 2, 1, bias=False),\n",
    "            nn.BatchNorm2d(128),\n",
    "            nn.ReLU(True),\n",
    "            nn.Conv2d(128, 256, 4, 2, 1, bias=False),\n",
    "            nn.BatchNorm2d(256),\n",
    "            nn.ReLU(True),\n",
    "            nn.Conv2d(256, 512, 4, 2, 1, bias=False),\n",
    "            nn.BatchNorm2d(512),\n",
    "            nn.ReLU(True),\n",
    "            nn.Conv2d(512, 1024, 4, 2, 1, bias=False),\n",
    "            nn.BatchNorm2d(1024),\n",
    "            nn.ReLU(True),\n",
    "            View((-1, 1024*4*4)),\n",
    "            nn.Linear(1024*4*4, z_dim)\n",
    "        )\n",
    "        self.weight_init()\n",
    "\n",
    "    def weight_init(self):\n",
    "        for block in self._modules:\n",
    "            for m in self._modules[block]:\n",
    "                kaiming_init(m)\n",
    "\n",
    "\n",
    "    def forward(self, x):\n",
    "        x = self.main(x)\n",
    "        return x\n",
    "\n",
    "\n",
    "class Decoder(nn.Module):\n",
    "    def __init__(self, z_dim=10, nc=3):\n",
    "        super(Decoder, self).__init__()\n",
    "        \n",
    "        self.nc = nc\n",
    "        self.z_dim = z_dim\n",
    "        \n",
    "        self.main = nn.Sequential(\n",
    "            nn.Linear(z_dim, 1024*8*8),\n",
    "            View((-1, 1024, 8, 8)),\n",
    "            nn.ConvTranspose2d(1024, 512, 4, 2, 1, bias=False),\n",
    "            nn.BatchNorm2d(512),\n",
    "            nn.ReLU(True),\n",
    "            nn.ConvTranspose2d(512, 256, 4, 2, 1, bias=False),\n",
    "            nn.BatchNorm2d(256),\n",
    "            nn.ReLU(True),\n",
    "            nn.ConvTranspose2d(256, 128, 4, 2, 1, bias=False),\n",
    "            nn.BatchNorm2d(128),\n",
    "            nn.ReLU(True),\n",
    "            nn.ConvTranspose2d(128, nc, 1)\n",
    "        )\n",
    "        self.weight_init()\n",
    "\n",
    "    def weight_init(self):\n",
    "        for block in self._modules:\n",
    "            for m in self._modules[block]:\n",
    "                kaiming_init(m)\n",
    "\n",
    "\n",
    "    def forward(self, x):\n",
    "        x = self.main(x)\n",
    "        return x\n",
    "\n",
    "\n",
    "class Discriminator(nn.Module):\n",
    "    def __init__(self, z_dim):\n",
    "        super(Discriminator, self).__init__()\n",
    "        \n",
    "        self.z_dim = z_dim\n",
    "        \n",
    "        self.main = nn.Sequential(\n",
    "            nn.Linear(self.z_dim, 512),\n",
    "            nn.ReLU(True),\n",
    "            nn.Linear(512, 512),\n",
    "            nn.ReLU(True),\n",
    "            nn.Linear(512, 512),\n",
    "            nn.ReLU(True),\n",
    "            nn.Linear(512, 512),\n",
    "            nn.ReLU(True),\n",
    "            nn.Linear(512, 1)\n",
    "        )\n",
    "        self.weight_init()\n",
    "\n",
    "    def weight_init(self):\n",
    "        for block in self._modules:\n",
    "            for m in self._modules[block]:\n",
    "                kaiming_init(m)\n",
    "\n",
    "    def forward(self, x):\n",
    "        dis = self.main(x)\n",
    "        return dis"
   ]
  },
  {
   "cell_type": "code",
   "execution_count": 4,
   "metadata": {},
   "outputs": [
    {
     "name": "stderr",
     "output_type": "stream",
     "text": [
      "/home/irfandw/anaconda3/envs/env/lib/python3.6/site-packages/ipykernel_launcher.py:11: UserWarning: nn.init.kaiming_normal is now deprecated in favor of nn.init.kaiming_normal_.\n",
      "  # This is added back by InteractiveShellApp.init_path()\n"
     ]
    }
   ],
   "source": [
    "enc = Encoder(z_dim=128, nc=3).to(device)\n",
    "dec = Decoder(z_dim=128, nc=3).to(device)\n",
    "dis = Discriminator(z_dim=128).to(device)\n",
    "\n",
    "enc.load_state_dict(torch.load('saved_model_x1/encoder.pth'))\n",
    "dec.load_state_dict(torch.load('saved_model_x1/decoder_.pth'))\n",
    "dis.load_state_dict(torch.load('saved_model_x1/discriminator_.pth'))"
   ]
  },
  {
   "cell_type": "code",
   "execution_count": 5,
   "metadata": {},
   "outputs": [],
   "source": [
    "#Train image directory\n",
    "train_path = '/home/irfandw/Works/dataset/data_aligned_resize/copy1/Training/Subjects/'\n",
    "\n",
    "#Test image directory\n",
    "test_path = '/home/irfandw/Works/dataset/data_aligned_resize/FRGC/Testing/Subjects/'\n",
    "\n",
    "\n",
    "#Pair train of FRGC directory\n",
    "pairs_path1 = 'pairs_new/train/shufflepairs_genuine.txt'\n",
    "pairs_path2 = 'pairs_new/train/shufflepairs_train_impostor_new.txt'\n",
    "\n",
    "#Pair test of FRGC directory\n",
    "pairs_test1 = 'pairs_frgc/shufflepairs_FRGC_test_genuine.txt'\n",
    "pairs_test2 = 'pairs_frgc/shufflepairs_FRGC_test_impostor.txt'\n",
    "pairs_path3 = 'pairs_frgc/pairs_frgc.txt'\n",
    "\n",
    "\n",
    "file_ext = 'png'"
   ]
  },
  {
   "cell_type": "code",
   "execution_count": 6,
   "metadata": {},
   "outputs": [],
   "source": [
    "def read_pairs(pairs_filename, lfw_flag=True):\n",
    "    pairs = []\n",
    "    with open(pairs_filename, 'r') as f:\n",
    "        if lfw_flag:\n",
    "            for line in f.readlines()[1:]:\n",
    "                pair = line.strip().split()\n",
    "                pairs.append(pair)\n",
    "        else:\n",
    "            for line in f.readlines():\n",
    "                pair = line.strip().split()\n",
    "                pairs.append(pair)      \n",
    "    return np.array(pairs)"
   ]
  },
  {
   "cell_type": "code",
   "execution_count": 7,
   "metadata": {},
   "outputs": [],
   "source": [
    "#Load training pairs\n",
    "pairs1 = read_pairs(pairs_path1, lfw_flag=False)\n",
    "pairs2 = read_pairs(pairs_path2, lfw_flag=False)\n",
    "\n",
    "#Load testing pairs\n",
    "pairtest1 = read_pairs(pairs_test1, lfw_flag=False)\n",
    "pairtest2 = read_pairs(pairs_test2, lfw_flag=False)\n",
    "pairsx = read_pairs(pairs_path3, lfw_flag=False)"
   ]
  },
  {
   "cell_type": "code",
   "execution_count": 8,
   "metadata": {},
   "outputs": [],
   "source": [
    "#Get list of path for training and testing pairs\n",
    "def get_paths(directory, pairs, file_ext):\n",
    "    nrof_skipped_pairs = 0\n",
    "    path_list = []\n",
    "    issame_list = []\n",
    "    for pair in pairs:\n",
    "        if len(pair) == 3:\n",
    "            path0 = os.path.join(directory, pair[0], pair[1])\n",
    "            path1 = os.path.join(directory, pair[0], pair[2])\n",
    "            issame = True\n",
    "        elif len(pair) == 4:\n",
    "            path0 = os.path.join(directory, pair[0], pair[1])\n",
    "            path1 = os.path.join(directory, pair[2], pair[3])\n",
    "            issame = False\n",
    "        if os.path.exists(path0) and os.path.exists(path1):    # Only add the pair if both paths exist\n",
    "            path_list += (path0,path1)\n",
    "            issame_list.append(issame)\n",
    "        else:\n",
    "            nrof_skipped_pairs += 1\n",
    "    if nrof_skipped_pairs>0:\n",
    "        print('Skipped %d image pairs' % nrof_skipped_pairs)\n",
    "    \n",
    "    return path_list, issame_list"
   ]
  },
  {
   "cell_type": "code",
   "execution_count": 9,
   "metadata": {},
   "outputs": [],
   "source": [
    "#Load training and testing\n",
    "path_list1, issame_list1 = get_paths(train_path, pairs1, file_ext)\n",
    "path_list2, issame_list2 = get_paths(train_path, pairs2, file_ext)\n",
    "\n",
    "path_list_test1, issame_list_test1 = get_paths(test_path, pairtest1, file_ext)\n",
    "path_list_test2, issame_list_test2 = get_paths(test_path, pairtest2, file_ext)\n",
    "path_list3, issame_list3 = get_paths(test_path, pairsx, file_ext)"
   ]
  },
  {
   "cell_type": "code",
   "execution_count": 10,
   "metadata": {},
   "outputs": [
    {
     "data": {
      "text/plain": [
       "array([ True,  True,  True, ..., False, False, False])"
      ]
     },
     "execution_count": 10,
     "metadata": {},
     "output_type": "execute_result"
    }
   ],
   "source": [
    "#Ground truth\n",
    "gt = np.asarray(issame_list3)\n",
    "gt"
   ]
  },
  {
   "cell_type": "code",
   "execution_count": 11,
   "metadata": {},
   "outputs": [],
   "source": [
    "class LoadDataset(torch.utils.data.Dataset):\n",
    "\n",
    "    def __init__(self, path_list, issame_list, transforms, split = 'test'):\n",
    "        \n",
    "        self.files = collections.defaultdict(list)\n",
    "        self.split = split\n",
    "        self.files[split] =  path_list\n",
    "        self.pair_label = issame_list\n",
    "        self.transforms = transforms\n",
    "\n",
    "    def __len__(self):\n",
    "        return len(self.files[self.split])\n",
    "\n",
    "    def __getitem__(self, index):\n",
    "        img_file = self.files[self.split][index]\n",
    "        img = PIL.Image.open(img_file)\n",
    "        if DEBUG:\n",
    "            print (img_file)\n",
    "        im_out = self.transforms(img)\n",
    "        return im_out"
   ]
  },
  {
   "cell_type": "code",
   "execution_count": 12,
   "metadata": {},
   "outputs": [],
   "source": [
    "test_transform = transforms.Compose([\n",
    "    transforms.Resize((64,64)),\n",
    "    transforms.ToTensor()\n",
    "    ])"
   ]
  },
  {
   "cell_type": "code",
   "execution_count": 13,
   "metadata": {},
   "outputs": [],
   "source": [
    "#Load training dataset\n",
    "train_loader_gen = torch.utils.data.DataLoader(\n",
    "                        LoadDataset(\n",
    "                        path_list1, issame_list1, test_transform), \n",
    "                        batch_size=1, shuffle=False )\n",
    "\n",
    "train_loader_im = torch.utils.data.DataLoader(\n",
    "                        LoadDataset(\n",
    "                        path_list2, issame_list2, test_transform), \n",
    "                        batch_size=1, shuffle=False )"
   ]
  },
  {
   "cell_type": "code",
   "execution_count": 14,
   "metadata": {},
   "outputs": [],
   "source": [
    "#Load testing dataset\n",
    "test_loader_gen = torch.utils.data.DataLoader(\n",
    "                        LoadDataset(\n",
    "                        path_list_test1, issame_list_test1, test_transform), \n",
    "                        batch_size=1, shuffle=False )\n",
    "\n",
    "test_loader_im = torch.utils.data.DataLoader(\n",
    "                        LoadDataset(\n",
    "                        path_list_test2, issame_list_test2, test_transform), \n",
    "                        batch_size=1, shuffle=False )"
   ]
  },
  {
   "cell_type": "code",
   "execution_count": 15,
   "metadata": {},
   "outputs": [
    {
     "data": {
      "text/plain": [
       "Decoder(\n",
       "  (main): Sequential(\n",
       "    (0): Linear(in_features=128, out_features=65536, bias=True)\n",
       "    (1): View()\n",
       "    (2): ConvTranspose2d(1024, 512, kernel_size=(4, 4), stride=(2, 2), padding=(1, 1), bias=False)\n",
       "    (3): BatchNorm2d(512, eps=1e-05, momentum=0.1, affine=True, track_running_stats=True)\n",
       "    (4): ReLU(inplace)\n",
       "    (5): ConvTranspose2d(512, 256, kernel_size=(4, 4), stride=(2, 2), padding=(1, 1), bias=False)\n",
       "    (6): BatchNorm2d(256, eps=1e-05, momentum=0.1, affine=True, track_running_stats=True)\n",
       "    (7): ReLU(inplace)\n",
       "    (8): ConvTranspose2d(256, 128, kernel_size=(4, 4), stride=(2, 2), padding=(1, 1), bias=False)\n",
       "    (9): BatchNorm2d(128, eps=1e-05, momentum=0.1, affine=True, track_running_stats=True)\n",
       "    (10): ReLU(inplace)\n",
       "    (11): ConvTranspose2d(128, 3, kernel_size=(1, 1), stride=(1, 1))\n",
       "  )\n",
       ")"
      ]
     },
     "execution_count": 15,
     "metadata": {},
     "output_type": "execute_result"
    }
   ],
   "source": [
    "enc.eval()\n",
    "dec.eval()"
   ]
  },
  {
   "cell_type": "code",
   "execution_count": null,
   "metadata": {},
   "outputs": [],
   "source": []
  },
  {
   "cell_type": "markdown",
   "metadata": {},
   "source": [
    "## Create Z_mat"
   ]
  },
  {
   "cell_type": "code",
   "execution_count": 16,
   "metadata": {},
   "outputs": [],
   "source": [
    "recons_images = []\n",
    "zgen_ = []\n",
    "\n",
    "with torch.no_grad():\n",
    "    for batch_idx, data in enumerate(train_loader_gen):\n",
    "        #datax,_ = data\n",
    "        data = data.to(device)\n",
    "\n",
    "        z_encoded = enc(data)\n",
    "        decod = dec(z_encoded)\n",
    "\n",
    "        recons_images.append(decod[0].cpu().numpy())\n",
    "        zgen_.append(z_encoded[0].cpu().numpy())"
   ]
  },
  {
   "cell_type": "code",
   "execution_count": 17,
   "metadata": {},
   "outputs": [],
   "source": [
    "recons_images_genuine_train = np.array(recons_images)\n",
    "zgen_ = np.array(zgen_)"
   ]
  },
  {
   "cell_type": "code",
   "execution_count": 18,
   "metadata": {},
   "outputs": [
    {
     "name": "stdout",
     "output_type": "stream",
     "text": [
      "(257, 2400)\n"
     ]
    }
   ],
   "source": [
    "z_reshape1 = zgen_.reshape((-1,256))\n",
    "z_reshape_rot1 = np.transpose(z_reshape1)\n",
    "add_ones = np.ones((1,2400))\n",
    "z_mat = np.concatenate((z_reshape_rot1, add_ones))\n",
    "print(z_mat.shape)"
   ]
  },
  {
   "cell_type": "code",
   "execution_count": null,
   "metadata": {},
   "outputs": [],
   "source": []
  },
  {
   "cell_type": "markdown",
   "metadata": {},
   "source": [
    "## Z_nonmated"
   ]
  },
  {
   "cell_type": "code",
   "execution_count": 19,
   "metadata": {},
   "outputs": [],
   "source": [
    "recons_images_impostor_train = []\n",
    "zim_ = []\n",
    "\n",
    "with torch.no_grad():\n",
    "    for batch_idx, data in enumerate(train_loader_im):\n",
    "        #datax,_ = data\n",
    "        data = data.to(device)\n",
    "\n",
    "        z_encoded = enc(data)\n",
    "        decod = dec(z_encoded)\n",
    "\n",
    "        recons_images_impostor_train.append(decod[0].cpu().numpy())\n",
    "        zim_.append(z_encoded[0].cpu().numpy())"
   ]
  },
  {
   "cell_type": "code",
   "execution_count": 20,
   "metadata": {},
   "outputs": [],
   "source": [
    "recons_images_impostor_train = np.array(recons_images_impostor_train)\n",
    "zim_ = np.array(zim_)"
   ]
  },
  {
   "cell_type": "code",
   "execution_count": 31,
   "metadata": {},
   "outputs": [],
   "source": [
    "z_reshape2 = zim_.reshape((-1,256))\n",
    "z_reshape_rot2 = np.transpose(z_reshape2)\n",
    "add_zeros = np.zeros((1,2400))\n",
    "z_nonmat = np.concatenate((z_reshape_rot2, add_zeros))\n",
    "print(z_nonmat.shape)"
   ]
  },
  {
   "cell_type": "code",
   "execution_count": null,
   "metadata": {},
   "outputs": [],
   "source": []
  },
  {
   "cell_type": "markdown",
   "metadata": {},
   "source": [
    "## SAVE DATA"
   ]
  },
  {
   "cell_type": "code",
   "execution_count": 36,
   "metadata": {},
   "outputs": [],
   "source": [
    "train = np.concatenate((z_mat, z_nonmat),axis=1)  #training data\n",
    "\n",
    "scipy.io.savemat('result_FRGC/train_new_ae.mat', mdict={\"X_tr\": train})\n",
    "\n",
    "train_with_binary = np.save('result_FRGC/train_bin_ae.npy', train)"
   ]
  },
  {
   "cell_type": "code",
   "execution_count": null,
   "metadata": {},
   "outputs": [],
   "source": []
  },
  {
   "cell_type": "markdown",
   "metadata": {},
   "source": [
    "## Testing genuine"
   ]
  },
  {
   "cell_type": "code",
   "execution_count": 21,
   "metadata": {},
   "outputs": [],
   "source": [
    "recons_images_genuine_test = []\n",
    "zgen_test_ = []\n",
    "\n",
    "with torch.no_grad():\n",
    "    for batch_idx, data in enumerate(test_loader_gen):\n",
    "        #datax,_ = data\n",
    "        data = data.to(device)\n",
    "\n",
    "        z_encoded = enc(data)\n",
    "        decod = dec(z_encoded)\n",
    "\n",
    "        recons_images_genuine_test.append(decod[0].cpu().numpy())\n",
    "        zgen_test_.append(z_encoded[0].cpu().numpy())"
   ]
  },
  {
   "cell_type": "code",
   "execution_count": 22,
   "metadata": {},
   "outputs": [],
   "source": [
    "recons_images_genuine_test = np.array(recons_images_genuine_test)\n",
    "zgen_test_ = np.array(zgen_test_)"
   ]
  },
  {
   "cell_type": "code",
   "execution_count": 24,
   "metadata": {},
   "outputs": [],
   "source": [
    "z_reshape2_test = zgen_test_.reshape((-1,256))\n",
    "z_reshape_rot2_test = np.transpose(z_reshape2_test)"
   ]
  },
  {
   "cell_type": "code",
   "execution_count": null,
   "metadata": {},
   "outputs": [],
   "source": []
  },
  {
   "cell_type": "markdown",
   "metadata": {},
   "source": [
    "## Testing Impostor"
   ]
  },
  {
   "cell_type": "code",
   "execution_count": 25,
   "metadata": {},
   "outputs": [],
   "source": [
    "recons_images_impostor_test = []\n",
    "zim_test_ = []\n",
    "\n",
    "with torch.no_grad():\n",
    "    for batch_idx, data in enumerate(test_loader_im):\n",
    "        #datax,_ = data\n",
    "        data = data.to(device)\n",
    "\n",
    "        z_encoded = enc(data)\n",
    "        decod = dec(z_encoded)\n",
    "\n",
    "        recons_images_impostor_test.append(decod[0].cpu().numpy())\n",
    "        zim_test_.append(z_encoded[0].cpu().numpy())"
   ]
  },
  {
   "cell_type": "code",
   "execution_count": 26,
   "metadata": {},
   "outputs": [],
   "source": [
    "recons_images_impostor_test = np.array(recons_images_impostor_test)\n",
    "zim_test_ = np.array(zim_test_)"
   ]
  },
  {
   "cell_type": "code",
   "execution_count": 27,
   "metadata": {},
   "outputs": [],
   "source": [
    "z_reshape2_test = zim_test_.reshape((-1,256))\n",
    "z_reshape_rot2_test = np.transpose(z_reshape2_test)"
   ]
  },
  {
   "cell_type": "code",
   "execution_count": null,
   "metadata": {},
   "outputs": [],
   "source": []
  },
  {
   "cell_type": "markdown",
   "metadata": {},
   "source": [
    "## SAVE DATA"
   ]
  },
  {
   "cell_type": "code",
   "execution_count": 43,
   "metadata": {},
   "outputs": [],
   "source": [
    "#Save data\n",
    "test_gen_pair = np.concatenate((z_reshape_rot1_test, z_reshape_rot2_test), axis=1)\n",
    "\n",
    "scipy.io.savemat('result_FRGC/test_gen_pair_ae.mat', mdict={\"X\": test_gen_pair})\n",
    "\n",
    "np.save('result_FRGC/test_gen_pair_ae.npy', test_gen_pair)"
   ]
  },
  {
   "cell_type": "code",
   "execution_count": null,
   "metadata": {},
   "outputs": [],
   "source": []
  },
  {
   "cell_type": "markdown",
   "metadata": {},
   "source": [
    "## LLR"
   ]
  },
  {
   "cell_type": "code",
   "execution_count": 28,
   "metadata": {},
   "outputs": [],
   "source": [
    "train = np.load('result_FRGC/train_bin_aae.npy')\n",
    "test = np.load('result_FRGC/test_gen_pair_aae.npy')"
   ]
  },
  {
   "cell_type": "code",
   "execution_count": 29,
   "metadata": {},
   "outputs": [
    {
     "name": "stdout",
     "output_type": "stream",
     "text": [
      "0.8170366559975613\n",
      "(array([119]),)\n"
     ]
    }
   ],
   "source": [
    "#Finding the best Ndc value\n",
    "find = []\n",
    "\n",
    "for i in range(128):\n",
    "    M_global_hat, B_psinv, stdB_hat = train_LLR(train, Npc=128, Ndc=i)\n",
    "    LLR = LLR_computation(test, M_global_hat, B_psinv, stdB_hat)\n",
    "    \n",
    "    roc_auc = sklearn.metrics.roc_auc_score(gt, LLR[0])\n",
    "\n",
    "    find.append(roc_auc)\n",
    "\n",
    "find = np.array(find)\n",
    "print(np.max(find))\n",
    "print(np.where(find == np.max(find)))"
   ]
  },
  {
   "cell_type": "code",
   "execution_count": 30,
   "metadata": {},
   "outputs": [],
   "source": [
    "M_global_hat, B_psinv, stdB_hat = train_LLR(train, Npc=128, Ndc=119)"
   ]
  },
  {
   "cell_type": "code",
   "execution_count": 31,
   "metadata": {},
   "outputs": [
    {
     "name": "stdout",
     "output_type": "stream",
     "text": [
      "(3240,)\n"
     ]
    }
   ],
   "source": [
    "LLR = LLR_computation(test, M_global_hat, B_psinv, stdB_hat)\n",
    "#print(LLR)\n",
    "print(LLR[0].shape)"
   ]
  },
  {
   "cell_type": "code",
   "execution_count": 32,
   "metadata": {},
   "outputs": [
    {
     "name": "stdout",
     "output_type": "stream",
     "text": [
      "ROC-AUC: 0.8170\n"
     ]
    },
    {
     "data": {
      "image/png": "[encoded data removed]",
      "text/plain": [
       "<Figure size 432x288 with 1 Axes>"
      ]
     },
     "metadata": {
      "needs_background": "light"
     },
     "output_type": "display_data"
    }
   ],
   "source": [
    "roc_auc = sklearn.metrics.roc_auc_score(gt, LLR[0])\n",
    "fpr, tpr, thresholds = sklearn.metrics.roc_curve(gt, LLR[0])\n",
    "print ('ROC-AUC: %.04f' % roc_auc)\n",
    "# Plot and save ROC curve\n",
    "fig = plt.figure()\n",
    "plt.title('ROC - AAE z=128')\n",
    "plt.plot(fpr, tpr, lw=2, label='ROC (auc = %0.4f)' % roc_auc)\n",
    "plt.xlim([0.0, 1.0])\n",
    "plt.ylim([0.0, 1.05])\n",
    "plt.grid()\n",
    "plt.xlabel('False Positive Rate')\n",
    "plt.ylabel('True Positive Rate')\n",
    "plt.legend(loc='lower right')\n",
    "plt.tight_layout()"
   ]
  }
 ],
 "metadata": {
  "kernelspec": {
   "display_name": "Python 3",
   "language": "python",
   "name": "python3"
  },
  "language_info": {
   "codemirror_mode": {
    "name": "ipython",
    "version": 3
   },
   "file_extension": ".py",
   "mimetype": "text/x-python",
   "name": "python",
   "nbconvert_exporter": "python",
   "pygments_lexer": "ipython3",
   "version": "3.6.9"
  }
 },
 "nbformat": 4,
 "nbformat_minor": 2
}
